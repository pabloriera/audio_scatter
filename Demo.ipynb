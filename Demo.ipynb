{
 "cells": [
  {
   "cell_type": "markdown",
   "metadata": {},
   "source": [
    "# HTML Audio player\n",
    "\n",
    "Ipython provides a funcionality to update a display object so one audio player can be used to reproduce multiple files.\n",
    "\n",
    "First create empty player with an ID"
   ]
  },
  {
   "cell_type": "code",
   "execution_count": 1,
   "metadata": {},
   "outputs": [
    {
     "data": {
      "text/html": [
       "\n",
       "                <audio  controls=\"controls\" autoplay=\"autoplay\">\n",
       "                    <source src=\"data:audio/x-wav;base64,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\" type=\"audio/x-wav\" />\n",
       "                    Your browser does not support the audio element.\n",
       "                </audio>\n",
       "              "
      ],
      "text/plain": [
       "<IPython.lib.display.Audio object>"
      ]
     },
     "metadata": {},
     "output_type": "display_data"
    }
   ],
   "source": [
    "from audio_scatter import create_player, play, audio_scatter\n",
    "\n",
    "player_id = 1000\n",
    "create_player(player_id)"
   ]
  },
  {
   "cell_type": "markdown",
   "metadata": {},
   "source": [
    "Next, assign a wav file to the player and listen to it (autoplay is true by default)"
   ]
  },
  {
   "cell_type": "code",
   "execution_count": 2,
   "metadata": {},
   "outputs": [],
   "source": [
    "play('sounds/808-Rim1.wav',player_id)"
   ]
  },
  {
   "cell_type": "markdown",
   "metadata": {},
   "source": [
    "Now, lets create an interactive scatter plot with a sound in every dot. \n",
    "\n",
    "In this example the coordinates and file paths are set in a pandas dataframe. The _c_ column indicates the color."
   ]
  },
  {
   "cell_type": "code",
   "execution_count": 8,
   "metadata": {},
   "outputs": [
    {
     "data": {
      "text/html": [
       "<div>\n",
       "<style scoped>\n",
       "    .dataframe tbody tr th:only-of-type {\n",
       "        vertical-align: middle;\n",
       "    }\n",
       "\n",
       "    .dataframe tbody tr th {\n",
       "        vertical-align: top;\n",
       "    }\n",
       "\n",
       "    .dataframe thead th {\n",
       "        text-align: right;\n",
       "    }\n",
       "</style>\n",
       "<table border=\"1\" class=\"dataframe\">\n",
       "  <thead>\n",
       "    <tr style=\"text-align: right;\">\n",
       "      <th></th>\n",
       "      <th>x</th>\n",
       "      <th>y</th>\n",
       "      <th>c</th>\n",
       "      <th>wav</th>\n",
       "    </tr>\n",
       "    <tr>\n",
       "      <th>index</th>\n",
       "      <th></th>\n",
       "      <th></th>\n",
       "      <th></th>\n",
       "      <th></th>\n",
       "    </tr>\n",
       "  </thead>\n",
       "  <tbody>\n",
       "    <tr>\n",
       "      <th>sounds/808-Clave1.wav</th>\n",
       "      <td>0</td>\n",
       "      <td>0</td>\n",
       "      <td>0</td>\n",
       "      <td>sounds/808-Clave1.wav</td>\n",
       "    </tr>\n",
       "    <tr>\n",
       "      <th>sounds/808-HiHats01.wav</th>\n",
       "      <td>0</td>\n",
       "      <td>1</td>\n",
       "      <td>1</td>\n",
       "      <td>sounds/808-HiHats01.wav</td>\n",
       "    </tr>\n",
       "    <tr>\n",
       "      <th>sounds/808-Snare01.wav</th>\n",
       "      <td>0</td>\n",
       "      <td>2</td>\n",
       "      <td>2</td>\n",
       "      <td>sounds/808-Snare01.wav</td>\n",
       "    </tr>\n",
       "    <tr>\n",
       "      <th>sounds/808-OpenHiHats02.wav</th>\n",
       "      <td>1</td>\n",
       "      <td>0</td>\n",
       "      <td>3</td>\n",
       "      <td>sounds/808-OpenHiHats02.wav</td>\n",
       "    </tr>\n",
       "    <tr>\n",
       "      <th>sounds/808-Kicks01.wav</th>\n",
       "      <td>1</td>\n",
       "      <td>1</td>\n",
       "      <td>4</td>\n",
       "      <td>sounds/808-Kicks01.wav</td>\n",
       "    </tr>\n",
       "    <tr>\n",
       "      <th>sounds/808-Conga1.wav</th>\n",
       "      <td>1</td>\n",
       "      <td>2</td>\n",
       "      <td>5</td>\n",
       "      <td>sounds/808-Conga1.wav</td>\n",
       "    </tr>\n",
       "    <tr>\n",
       "      <th>sounds/808-Clap01.wav</th>\n",
       "      <td>2</td>\n",
       "      <td>0</td>\n",
       "      <td>6</td>\n",
       "      <td>sounds/808-Clap01.wav</td>\n",
       "    </tr>\n",
       "    <tr>\n",
       "      <th>sounds/808-Rim1.wav</th>\n",
       "      <td>2</td>\n",
       "      <td>1</td>\n",
       "      <td>7</td>\n",
       "      <td>sounds/808-Rim1.wav</td>\n",
       "    </tr>\n",
       "    <tr>\n",
       "      <th>sounds/808-Cowbell1.wav</th>\n",
       "      <td>2</td>\n",
       "      <td>2</td>\n",
       "      <td>8</td>\n",
       "      <td>sounds/808-Cowbell1.wav</td>\n",
       "    </tr>\n",
       "  </tbody>\n",
       "</table>\n",
       "</div>"
      ],
      "text/plain": [
       "                             x  y  c                          wav\n",
       "index                                                            \n",
       "sounds/808-Clave1.wav        0  0  0        sounds/808-Clave1.wav\n",
       "sounds/808-HiHats01.wav      0  1  1      sounds/808-HiHats01.wav\n",
       "sounds/808-Snare01.wav       0  2  2       sounds/808-Snare01.wav\n",
       "sounds/808-OpenHiHats02.wav  1  0  3  sounds/808-OpenHiHats02.wav\n",
       "sounds/808-Kicks01.wav       1  1  4       sounds/808-Kicks01.wav\n",
       "sounds/808-Conga1.wav        1  2  5        sounds/808-Conga1.wav\n",
       "sounds/808-Clap01.wav        2  0  6        sounds/808-Clap01.wav\n",
       "sounds/808-Rim1.wav          2  1  7          sounds/808-Rim1.wav\n",
       "sounds/808-Cowbell1.wav      2  2  8      sounds/808-Cowbell1.wav"
      ]
     },
     "execution_count": 8,
     "metadata": {},
     "output_type": "execute_result"
    }
   ],
   "source": [
    "import glob\n",
    "import pandas as pd\n",
    "\n",
    "filenames = glob.glob('sounds/*')[:10]\n",
    "coords = [(x,y) for x in range(3) for y in range(3)]\n",
    "x,y = zip(*coords)\n",
    "\n",
    "data = pd.DataFrame({'x':x, 'y': y, 'c':range(9), 'wav':filenames, 'index': filenames }).set_index('index',drop=True)\n",
    "data"
   ]
  },
  {
   "cell_type": "markdown",
   "metadata": {},
   "source": [
    "Next, call audio_scatter with the dataframe and the player id. Matplotlib widget is needed to haver interactive plots"
   ]
  },
  {
   "cell_type": "code",
   "execution_count": 7,
   "metadata": {},
   "outputs": [
    {
     "data": {
      "application/vnd.jupyter.widget-view+json": {
       "model_id": "96abe7bed2964cd398d56c8c74347d64",
       "version_major": 2,
       "version_minor": 0
      },
      "text/plain": [
       "Canvas(toolbar=Toolbar(toolitems=[('Home', 'Reset original view', 'home', 'home'), ('Back', 'Back to previous …"
      ]
     },
     "metadata": {},
     "output_type": "display_data"
    }
   ],
   "source": [
    "%matplotlib widget\n",
    "\n",
    "audio_scatter(data, player_id=1000)"
   ]
  }
 ],
 "metadata": {
  "kernelspec": {
   "display_name": "Python 3",
   "language": "python",
   "name": "python3"
  },
  "language_info": {
   "codemirror_mode": {
    "name": "ipython",
    "version": 3
   },
   "file_extension": ".py",
   "mimetype": "text/x-python",
   "name": "python",
   "nbconvert_exporter": "python",
   "pygments_lexer": "ipython3",
   "version": "3.7.3"
  }
 },
 "nbformat": 4,
 "nbformat_minor": 2
}
