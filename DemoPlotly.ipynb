{
 "cells": [
  {
   "cell_type": "markdown",
   "metadata": {},
   "source": [
    "# Audio Scatter\n",
    "\n",
    "## Updatable HTML Audio player\n",
    "\n",
    "Ipython provides a funcionality to update a display object so one audio player can be used to reproduce multiple files.\n",
    "\n",
    "First create empty player with an ID"
   ]
  },
  {
   "cell_type": "code",
   "execution_count": 1,
   "metadata": {},
   "outputs": [
    {
     "data": {
      "text/html": [
       "\n",
       "                <audio  controls=\"controls\" autoplay=\"autoplay\">\n",
       "                    <source src=\"data:audio/x-wav;base64,UklGRkhWAABXQVZFZm10IBAAAAABAAEARKwAAIhYAQACABAAZGF0YSRWAADK/+P/vP/2/5j/3ALmCgQSjRhuHu4jBinXLWgyvzbiOsU+lEIsRqVJ+Uw0UEBTO1YUWdNbc17zYF9jsGXeZwFqB2zybcVvhXErc7l0OXaXd/F4L3pPe3F8Zn1WfiN//3+/fz9+sXzZevF4AHfrdNRynnBcbgdspmkwZ7FkJGKJX+lcQ1qXV9pUGlJVT4lMvknvRhxEPkFmPog7rTjNNe8yBTApLUMqZSeBJJ0hux7bG/8YGxZEE2oQmA3BCusHIAVTAor/wfz6+UH3gvTQ8RrvcuzI6SLnguTt4VrfydxC2sbXR9XR0mXQ+82gy0HJ8sanxF/CJcD1vcW7prmLt3u1d7NssXmvja2kq8mp96cxpmukvqILoXCf2J1InMiaS5nel3WWKpXWk5KSW5EvkA2P9Y3pjOqL/IoLijCJXoiRh92GJoaHhe+EWoTag2OD+IKagkOC+YHBgY+BZoFNgUCBOoFEgVGBdoGegdWBEoJcgryCE4OHg/mDe4QEhaCFRYb0hpuHZYgwiQOK5YrLi8SMwY3AjtGP6ZAHkjqTZZSolfCWQZiPmfSaXJzJnUWfxqBQouSjf6UZp8qofqo3rPmtw6+csXSzWrVHtz25QbtBvVG/dcGQw7XF0MfUyd7L3s3Qz7vRpNN91VbXItnu2rDcad4j4NThe+Mi5cXmX+jt6YHrD+2b7iPwmvEc84n0BPZz99z4Rvqj+wX9W/63/wsBXwKvA/UEOAZ7B78IAAo5C3AMpQ3WDg0QMRFbEoYToBTCFeIW/hcYGS4aPxtRHFwdZB5zH3QgfiF9InwjeyRvJWwmWCdNKEApKioWK/wr5CzILa8uii9kMEIxFzLpMr4zkjRjNSw29za+N4E4SDkHOsM6fjs2PPc8oT1cPgo/uD9mQBJBtkFcQgBDn0M9RNhEdEUPRqJGMUfJR1FI4EhtSfBJf0r+SoBLA0x9TPVMck3oTVxO0k5CT7JPHlCBUO9QU1G2URpSeVLUUjFTi1PgUzdUilTaVClVcFXFVQVWTVaSVtZWFldTV5FXyVcHWDlYcViiWMpYAlkxWVNZfFmdWcdZ5lkFWipaQ1poWndalFqtWrVazlrSWuta8Vr+WgZbBlsXWxJbElsXWwpbDFsEW/pa81rlWthazFq1WqlalFp9Wl5aUFosWhNa+FnPWbZZkVllWUBZIVn1WM5YnFhqWDtYA1jRV59Xa1ctV/xWv1Z/VkFW/1XFVXxVQlXzVK9UalQeVNNTiFM6U+lSllJLUvZRn1FIUfdQmlA9UOpPjU8rT85OcU4NTq5NRE3cTH9MD0ysS0ZL1kpsSv9JiEkdSa9IN0jCR1JH2kZkRu5FdEX7RHlEA0SAQwBDh0L+QXxB80BwQOo/Xz/WPkc+vj0xPaI8ETx+O/M6WDrEOS85kjj8N2E3wTYgNog15zRBNJ8z/TJPMq4xBDFXMLAv/y5TLp8t8Sw8LIwr0iodKmMpsSjuJzMneSa0JfckOCRvI7Ai6SEiIWAglB/NHv4dNx1kHJkbwxr4GSQZTxh8F6gW1RX7FCgUThNwEpsRwxDhDwkPMA5KDXQMkAuwCtAJ8QgRCCsHSQZlBYkEmAO9AswB8wATACb/PP5c/XT8jvuk+sL52Pjr9w/3H/Y99VP0bfOF8qHxuPDU7/LuAu4m7TrsWutu6orprujK597m/uUi5TjkXON44pjhuODY3wPfH95J3Wvcktu82t/ZBdkv2GLXiNax1eLUDtRB03DSotHT0AzQNM90zqbN38wdzFjLm8rUyRnJW8iUx9/GHcZoxbTE+8NHw5PC5cEwwYjA2L8wv4i+4r04vZm89btVu7S6FrqDueW4ULi3ty63l7YOtnu15bRptNqzV7PPslKy0LFTsdWwYbDpr26v/K6OriOus61FrduseKwYrK6rUavwqpeqQKrrqZOpQanwqKGoUKgFqMGndKc4p/KmtKZ+pkCmBabNpZylZqU4pQ+l46S2pJKkcaRMpCekEKTxo9ajv6Omo5Ojh6N0o2yjYqNZo0+jT6NNo02jSaNPo1WjYKNoo3SjgaOTo6ajv6PQo+ijCqQcpDukX6SEpKOkyKTupBmlQaVwpail1KUIpjOma6ahptumGadRp4+n1KcQqFaolajZqCSpbqmzqQGqUqqZqu6qQauLq+KrN6yKrN+sPK2PreutRK6lrgWvYK/DryOwgLDjsEuxqrESsnay37JLs6yzFrSAtOq0WrXFtS+2o7YNt3m377dduMa4OLmvuR+6jroFu3+76bthvNe8R73KvTG+qb4mv5q/DMCIwAXBecH1wW3C6MJkw9zDUsTPxEXFxcU+xrTGNMetxynIn8giyZzJGMqVyhfLlMsMzIjMA82HzQLOfs76znPP789y0OzQaNHt0WHS5NJc09zTW9TR1EvVztVK1sPWP9fB1zzYtNg72a3ZL9qm2iLbotsZ3JfcGN2K3Qbegt793n/f8d9s4OjgYOHW4Vfiz+JJ48LjOOSy5CrloOUb5pHmA+eD5/PnbOjg6FjpyOlE6rTqMeun6xfsi+z97Hft4+1X7snuP++t7yPwlfAD8XXx4/Fb8sPyNfOj8xP0fPTo9Fj1xvU29pv2C/d19+P3SPi2+Cb5jPn6+Vf6w/ox+5b7+Ptd/MX8Kv2S/fb9Wf69/ib/hP/n/08AqAALAW8BzAEpAosC6AJIA6UDAgRfBLQEGgV1BcgFJQaHBtMGNQeOB98HPAiTCN4IPwmSCd0JPgqLCtwKMQuCC9ULKgx2DMUMHA1nDbgN/g1PDpoO6A4zD34Pzg8PEFkQqBDoEDMRexHCEQsSTxKPEtgSGBNcE58T3RMdFGAUpBTcFCAVWBWWFdsVFRZNFosWwxYBFz0XbxevF+EXFxhRGIEYuRjzGCQZVBmOGcAZ6xkhGlMafxqyGuIaFBs5G2sbnxvEG/AbGxxAHGocmBzDHOgcGB0xHVwdgh2pHcwd8h0XHjIeVx57HpoetR7eHvceFh81H04faR+MH6UfwB/ZH/IfESAkIDwgWyBsII0gmiCwIMUg1iDvIAMhECEpITUhRiFUIWEheiGEIZIhnyGrIbwhwiHPIdsh5yHwIfoh/CEHIhMiGyIbIiEiLCIsIjQiOCI0IkEiNCJBIkUiRSJBIkEiRSJFIkEiPiI+IjIiMiIsIiwiJiIbIhsiDyIJIgci+iH0Iech4SHVIcohviG2IakhlyGQIYAhdyFlIVghTCE1ISkhFiEKIfUg6yDWIL8gsyCeIIcgciBZIE0gNiAhIAsg+B/dH8YfsR+ZH3wfYR9QHzEfHB//HuQexx6uHpYedB5bHkMeIx4GHuUdyB2pHYodax1QHTEdDB3tHMkcsByJHHAcRxwoHAAc4RvCG5kbeRtUGy8bEBvoGsMamhp4GlMaLhoEGuMZuhmSGW0ZRBkcGfMYzRioGHsYVRgqGAQY1RepF4oXWBcxFwcX2hawFoUWWRYuFgAW1xWpFX4VVBUpFfcUyxSkFHIURxQbFOkTvhOME2MTNxMFE9QSqBJ2EksSHxLrEcIRkBFjETERBRHPEKQQeBBFEBMQ5w+4D4APUg8iD+8Oww6XDmIOLg4EDswNoQ1vDUENEA3aDKgMdAxRDBcM5wuzC4gLUAskC/UKwQqRClkKLgr2CcgJnQllCTUJBwnYCKAIdAhACA8I4werB4AHUAccB+oGuQaJBlsGKgb4BcgFlAVpBTcFBwXWBKQEdgREBBsE4wO8A4wDXgMvA/sC0QKeAm4CQgIVAuMBtwGMAVoBKAH/ANEApgB2AEQAHwDn/7z/kP9n/zn/A//k/qz+h/5T/i7+/v3X/av9gv1Q/S/9Bf3N/Kj8evxb/Cv8BPzU+6/7gvte+zH7Dfvi+r36lfpq+kT6H/r0+c75q/l/+VL5OfkP+ej4v/ik+Hr4U/g8+AT44/fE95/3dfda9yr3D/fy9sX2rvaH9mj2SPYj9gD25fW89aH1hPVi9T/1JPUB9eb0w/So9Iv0avRL9C70E/T889vzvvOe84bzcfNU8zvzGvMH8+Ly1fKy8pnygPJs8lPyNvIj8gLy7/Hd8crxq/Ge8XvxbfFW8TvxMfEY8QPx7PDe8MfwtPCm8I3wfPBu8FvwSPAy8CPwEPAA8PHv5e/S78bvte+n75Tviu9973HvYu9Q70zvN+8q7yTvGu8N7wHv9O7o7ubu1e7H7snuuu607qjuou6b7onui+6C7nbucu5s7mXuZe5T7lnuTe5N7kbuRO5A7jruOO4y7i3uNO4r7i3uJ+4l7iXuG+4h7ifuH+4b7iXuIe4l7iXuIe4n7iXuK+4n7iXuLe4t7jjuNO447kTuQO5G7k3uU+5X7lPuX+5l7mrucO527oLuie6J7pXum+6d7qjutO687sHuze7T7uDu5u7u7vvuB+8N7x7vJu8x7z3vSe9S71zva+9174PvkO+a76nvte/C79Tv4e/r7/rvCvAM8CnwMPA+8E/wXfB08IDwk/Cb8LTwwfDT8ODw8vAD8RbxKvE78UnxXPFt8XvxkvGe8bPxzPHd8fHx/vEX8inyOvJN8mXyevKR8p3ysvLJ8tzy9/ID8xzzL/NH82Dzc/OM85zztfPK8+Hz/PMO9CH0PvRR9Gr0fPSX9LD0x/Ta9PX0B/Uk9T/1UPVr9YH1lvWz9cz13/X+9Rf2KfZE9lv2dPaN9qj2v/ba9vD2Cfco9z33Vvdz94z3ofe+99b39vcE+Cn4OvhZ+HT4hfiq+Lj4y/j3+Bb5KPk/+V75efmS+bH5zvnh+fz5Gfou+kv6ZvqD+pv6tPrT+u76B/sg+zf7XPt1+4r7o/vC+9v79PsR/CX8S/xd/ID8k/y4/Mv85vwJ/Rj9N/1U/W39hv2h/br90v3v/Q7+J/5C/lv+dP6N/qb+w/7i/vf+Df8v/0H/Wv95/5b/r//E/+H/9P8RADAASQBhAHQAkwCsAMEA5ADzABIBKwFBAWABcwGSAaEBvgHXAe8BCAIdAjoCTwJsAnoCmQKwAsUC4gL1AhQDJgNBA1gDbQOEA5gDrwPKA90D9AMTBBkEQARNBGYEfASRBKgEwQTTBOYE/wQOBS0FPwVQBWUFfQWQBakFtQXOBeEF+AUMBh8GNgZEBl0GcAaDBpMGqAa7Bs0G5Ab3BgsHHAcrBz0HUAdgB3MHggeaB6cHvgfSB98H6wcCCBUIJwguCEcITwhhCHQIhQiTCKAItgjDCNEI3gjuCAEJDgkaCSYJOwlICVQJYAlxCYQJjAmdCaUJtQm+Cc4J3QnhCfYJAAoIChkKJQo0CjoKSwpNCl0KagpwCoMKiwqVCp4KqgquCsMKzQrUCtwK6ArsCvkKBQsLCxILHgsmCy0LNws5C0MLTAtSC1gLZQtvC3ELdwt+C4gLkAuQC5sLoQupC60LtQu1C7oLwgvIC9IL1QvVC9sL4QvhC+sL8gvyC/gL+Av+CwAMBAwEDA0MCgwKDBEMFwwXDBkMGQwfDB0MIwwlDB8MKgwlDCoMLAwqDCUMKgwsDDAMLAwsDCoMKgwqDDAMKgwwDCUMKgwlDCUMIwwfDCMMHQwfDBMMFwwXDBEMEQwRDAoMCgwKDAYMAAwEDPgL/gv0C/IL8gvlC+cL4QvbC9sL1QvMC8wLwgvGC7wLuguzC6kLrQuhC6ELlguUC44LhAuCC3cLdQtrC2ULXAtcC1YLSgtGCz8LNwsrCysLIAseCxILCwv/CvsK+QroCuAK3ArPCscKwwq3CrQKpAqcCpcKjwqFCn8KcgpmCl0KUwpNCkAKPgouCiUKGwoVCg0K+gn0CeMJ3QnVCcoJvAm1CakJnQmYCYoJgAlzCW0JWglSCUwJOwkzCSgJFgkUCQMJ9wjuCOII1gjPCL8IsAimCKQIkQiFCHgIaAhfCFkIRwhACC4IIQgXCAgI/Af2B+MH2QfMB8AHswenB5oHjgeAB3MHaQdcB1AHPQcxByQHFgcJBwMH8wbkBt4GxQa7Bq4GoAaVBo8GdgZwBmgGVQZJBj4GLAYfBhcGBAb6BeUF4QXSBbwFugWnBZ0FiAWCBW8FZQVWBUoFPQUtBSAFGAULBfkE7ATaBNoEwQS9BK4EngSRBIMEcgRmBFkEUQRABDQEJQQbBBUEAAT6A90D4QPKA7wDtwOpA5YDkAOGA3EDZQNaA1IDOQMzAyIDGgMNA/0C8ALoAtYCywK/ArICqgKZAo0CegJ0AmgCXwJVAkYCOgIuAiECEQIIAv4B8gHfAd0BxgHAAbcBoQGlAY4BjAF5AXMBaQFUAU4BSAE1ASgBJAEWAQUB/wDzAOYA4ADTAMsAxQCyAK4AmwCZAIkAgwB0AGgAWwBXAEsAQgA4ACwAJQARABcABgAEAPT/4//d/9T/0P/C/7f/sf+l/5j/lv+M/33/d/9x/2X/YP9U/07/Qf87/zP/Lf8i/xb/FP8H//3+9/7u/uT+3P7c/sv+v/7D/rL+tv6k/qr+nv6T/pH+fv5+/nT+dP5h/mb+W/5T/k3+Sf5C/jz+NP4w/in+I/4b/hf+Ef4K/gL+Av72/fH97/3r/d393/3Z/df90P3K/cb9uv23/b79s/2r/af9pf2a/Zr9mP2U/Y79jv2M/Yb9e/17/Xn9b/1z/Wn9bf1p/WD9XP1a/VT9Vv1U/Ur9VP1D/Uf9Qf09/T39Pf09/Tf9Nf0x/TX9Kv0x/Sj9Mf0o/SL9KP0c/SL9Hv0e/Rj9HP0Y/Rj9Fv0W/RD9Fv0W/RL9Fv0S/RD9C/0S/Rb9C/0J/Qv9C/0Q/Qv9Cf0S/Qv9Cf0Q/Qv9EP0Q/RL9Cf0Q/Qv9Ev0W/RL9Fv0S/Rj9GP0W/Rz9GP0e/Rz9Hv0e/R79Iv0k/R79Kv0k/Sj9L/0v/TH9Mf01/TX9Nf07/Tv9Pf1D/Uf9Sv1O/U79UP1Q/U79VP1W/WD9YP1c/WL9bf1n/W39b/15/XX9ef2G/X/9iP2I/Yj9kv2S/Zj9mv2h/aX9p/2t/av9s/23/bf9wP3A/cb9yv3S/dL93/3X/eP95f3p/e/96/3x/fz9Av4C/g7+Cv4O/hf+G/4h/if+J/4u/jD+Ov48/kL+Qv5J/k3+Vf5V/ln+Zv5s/mz+bv56/n7+gf6L/pP+kf6T/p7+pP6q/qz+sP64/r3+vf7J/tH+z/7c/tz+5P7q/u7+9/77/gH/B/8N/xD/FP8g/yL/Jv8v/y//Of8//0H/Tv9S/1L/Xv9l/2v/cf9z/33/ff+K/4z/kP+S/5//pf+l/6v/vP+8/8L/yP/O/87/2//h/+P/7f/v//b/9v8GAAYAEQAXAB8AIwAsACwANgA4AEIARABJAE8ATwBhAF0AbgBuAHAAegCDAIMAiQCTAJMAoACiAKwAsgCuAMEAwQDHAMsA0QDaANoA5ADmAPAA8wD3AP0ABQEJARABGAEeAR4BHgEvATEBNwFBAUEBSgFOAVABVgFgAWcBaQFtAW8BeQF/AX8BjAGIAZgBmAGfAasBpwGxAbMBugG+AcQBxAHKAdIB0AHdAeMB5QHlAfIB8gH4Af4B/gEIAgoCFQIRAh0CHQIjAicCLgI2Ai4CPAI8AkICSQJGAk8CTwJTAlkCWwJhAmYCbAJuAnICdAJ6AoEChQKNAocCkwKTAp4CoAKeAqoCpAKqArYCrAK9ArkCwwLDAsMCyQLLAs8C0QLWAtgC3gLiAuIC6gLiAugC9QLuAvcC8AL7Av0C+wIDAwEDCQMJAw0DEAMUAxYDFgMgAxwDIAMgAyIDIgMtAy0DLwM1AygDMwM5AzkDOQM/A0EDPwM7Az8DQQNFA04DSANMA1IDTgNUA1IDWANUA1oDVANaA1gDXgNeA14DZQNnA2UDZQNnA2cDbQNnA20DbQNxA20DbQN3A20DcwNxA3cDdwNtA3cDcwNzA3cDcQNzA3kDeQNzA3kDeQN5A3kDdwOAA3cDcwN9A3kDbQOAA3cDdwN9A3cDeQN5A3cDdwNxA3kDdwN3A3kDcQN5A3cDcwNtA3cDeQNxA3MDbQNzA20DcQNtA2sDbQNtA20DawNrA2ADawNgA2cDZQNgA2UDXgNeA1oDWgNaA1gDWANSA1QDVANSA1IDTANSA0EDTgNMAz8DRQNBA0UDOwNBAzkDOwM7AzkDMwM1AzUDKAMvAyIDKAMmAyYDJgMcAyADIAMaAxoDGgMUAxADEAMJAwkDCQMHAwcDAwMDA/sC/QL1AvcC9QLuAvAC6gLoAuQC3gLiAtwC3ALiAtEC0QLRAs8CywLLAssCwwK/Ar8CuQK2ArYCtgKyAqoCqgKmAqYCpgKZAqAClwKRApkCjQKHAo0CgQKFAn4CegJ6Am4CcgJuAmwCaAJhAl8CXwJbAlkCVQJNAk8CSQJGAkICOgJCAjYCPAI6AikCKQIhAiECIwIdAhsCFQIXAhcCCAIKAvwBAgL+AfgB9gH4Ae8B7wHvAekB4wHdAd8B2QHZAdcBzAHMAcQBxgHAAcABtwGzAbcBswGrAaUBqwGhAZoBmgGYAZQBjgGOAYYBiAF/AX8BewF1AXUBcwFvAWkBZwFgAWABXAFWAVoBUAFOAU4BQwFDAT0BQQE1ATcBMQEvASgBKAEoASIBIgESARwBEgEQARABCQEFAf8A/wD9APcA8ADzAOwA7ADkAOAA5ADeANoA2ADRAM0A0wDBAMcAxQC/AL8AtAC4ALIAtACuAKYAqACgAJUAoACTAJkAkwCTAI8AhwCJAIMAgwB8AIMAdgB0AHAAagB0AGgAZABkAF0AXQBdAF0AVQBPAFEASwBLAEQARABEAD4APgA8ADgANgAyADIAMAAsACwAJQAfACUAHQAfABkAEwATABkADAAGAAoADAAGAAQABgD8//r/+v/6//b/9P/2/+//7f/p/+n/4//j/+P/3f/d/9v/3f/X/9T/0P/Q/87/0P/I/87/yP/E/8L/wv/I/7f/vv+8/7f/tf+x/7f/q/+v/6v/sf+r/6v/q/+l/6n/pf+l/5//n/+Y/5z/mP+f/5b/mP+S/5L/kv+K/4z/kP+G/4r/iv9//4b/hv+E/4T/ff+E/3//f/99/3//ef9z/33/d/9z/3f/cf9z/3n/bf93/23/bf9t/23/bf9r/2v/Z/9t/2X/Z/9n/2X/Zf9g/2X/Xv9g/2f/YP9l/17/Xv9g/17/YP9a/1r/Wv9a/1r/WP9g/17/Xv9Y/1r/Uv9a/1j/Xv9U/1j/WP9U/17/Uv9Y/1r/VP9Y/1T/Uv9U/1L/Xv9S/1T/WP9U/1j/VP9Y/1T/VP9e/1T/WP9e/1T/WP9Y/1j/WP9Y/2D/Uv9a/1T/Wv9Y/1j/Xv9a/1r/WP9a/17/Xv9e/2D/YP9e/2D/Xv9g/2D/YP9e/2X/Zf9g/2f/a/9l/2X/Zf9n/2f/Zf9r/2v/cf9t/2v/cf9x/3H/cf9x/3P/bf9z/3H/d/93/3f/ef9z/3P/c/95/3n/ef9//33/ef9//4T/f/9//4b/hP+G/4r/hv+M/4b/iv+M/5D/kP+M/4z/kv+Y/5b/kv+W/5b/mP+c/5j/o/+c/6P/o/+f/6P/o/+f/6v/q/+l/6n/q/+r/6n/r/+v/7H/q/+3/6//tf+3/7H/vP+1/8L/t/++/77/vv/E/8j/xP/C/8j/yP/K/8j/yv/Q/9D/zv/X/9D/zv/X/9f/3f/b/9f/3f/h/+H/4//d/+f/5//n/+n/6f/t/+n/9P/p/+3/7//0/+//9P/8//b//P8AAAAABAD8//z/AAAEAAoACgAKAAoADAAMAAwABgARABEAEQAXABMAGQAXABcAHQAdAB0AHQAdAB8AHQAlAB8AJQAsACUALAApACwAMAAyADIAMAA4ADIAMgA2ADgAPAA+AD4APgA+AEIARAA+AEQAQgBJAEkASQBEAE8ASwBPAFEAUQBVAFEAVwBbAFUAVQBXAF0AVwBhAFsAWwBkAF0AaABkAGEAagBkAGoAagBoAGoAbgB0AG4AbgBwAHAAdAB6AHQAegB2AHoAfAB2AHoAfACBAIEAgQCBAIMAgQCBAIEAgwCHAIcAiQCJAIMAiQCJAI8AjwCPAI8AjwCZAIkAkwCZAJUAlQCbAJsAlQCZAJkAmQCZAJsAmwCgAJsAmwCgAKYAmwCbAKYApgCoAJsAogCmAKgAogCuAKgAogCsAKgAuACsALIArgCuAK4ArgC0AKwArgCuALIAsgC0ALQAsgC4ALIAsgC0ALgAtAC4ALgAuAC/ALgAuAC4ALQAuwC7ALgAuwC4AMEAuwC7AL8AvwC/AL8AvwDBAL8AvwC4AL8AvwC/AL8AxQC/AL8AvwDBAL8AxQC/AMEAwQC4AMcAuwDBAMEAxQDFAMEAxQDFAMUAxwDBAMEAxwC/ALsAxQDBAL8AwQDFALsAwQDBAMUAwQDFAMUAvwC/AMEAwQDFAMEAwQDBAL8AwQDFAL8AwQDBALsAwQDBAL8AuwDBAL8AvwC7ALsAuAC/ALsAuAC7ALsAuwC0AL8AvwC0ALsAuwCyALsAuwC/ALQAtAC7ALQAtACyALsArgC0ALIAsgCyAK4AsgCyAK4ArgCuAKgAsgCoAK4ArgCsAK4AqACsAKgApgCsAKYAqACoAKgApgCgAKgAogCiAKYAmwCmAKYAogCiAKIAmwCbAKAAmQCZAKAAmQCVAJkAlQCZAJUAkwCZAI8AlQCTAJUAkwCNAJMAkwCNAI0AjwCNAI0AjQCJAI8AjQCJAI0AhwCJAIMAhwCBAIkAgQCHAHwAhwB6AHwAgwB0AHoAfAB6AHoAegB2AHQAegBwAHQAegBuAHYAcABuAG4AbgBwAG4AbgBqAG4AagBqAGgAYQBqAGEAZABkAF0AZABhAGEAXQBhAF0AXQBbAFsAYQBbAFcAVQBbAFsAVQBVAFcAVQBVAFEAUQBVAE8ATwBPAEsASwBJAEkASQBJAEIARABCAEIAQgBJAD4APgBCADwAQgA4ADgAPAA2ADgAOAA2ADgAMAAsADIAMAAwACwAMgAsACwAJQAwACUAKQApACUAMAAfACkAKQAfACMAIwAlAB8AIwAfAB0AIwAZAB8AFwAdAB0AEwAXABkAEwARABMAEQATABMADAAMABEADAAMAAYADAAKAAoACgAEAAYACgAEAAQABAD6/wQA/P8AAPr/AAAEAPr/+v/6//r/9P/6//r/9v/2/+//9P/v//b/9P/0//b/7f/t/+3/7f/t/+n/6f/t/+//7f/p/+n/6f/n/+H/5//p/+H/5//j/+H/4//h/+f/2//b/9v/4f/b/9v/2//b/9f/3f/b/9T/2//b/9f/1P/b/9D/1//O/9D/1P/O/9D/0P/U/87/zv/O/9D/zv/O/87/xP/Q/87/yP/Q/8r/yv/I/8T/yP/K/8L/xP/C/8T/xP/C/8T/xP/C/8T/wv/C/7z/wv/C/7z/vv+8/77/vP/C/77/vv/C/77/tf/C/7z/t/+8/7z/vv+3/7z/vv+1/7X/t/+8/7f/tf+3/7H/t/+8/7f/sf+x/7f/sf+1/6//tf+3/7X/sf+x/6//tf+1/6v/sf+1/7H/sf+v/7H/sf+x/7H/r/+x/7X/r/+r/6//r/+x/6v/q/+v/6//q/+v/6//sf+v/6v/q/+r/7H/r/+x/6v/qf+v/6n/r/+r/6n/r/+r/6//tf+l/6//r/+r/6v/q/+r/6v/q/+p/6n/sf+v/6n/qf+x/6v/q/+v/6v/qf+r/6//qf+r/6v/r/+v/6n/r/+p/6//qf+p/6//q/+r/6//q/+p/6v/r/+r/6v/r/+p/6v/q/+v/6v/q/+r/6n/pf+p/6//qf+x/7H/sf+v/6n/r/+r/6v/q/+v/6//r/+x/6//r/+x/7H/tf+r/7X/q/+x/7f/sf+v/7X/sf+x/7X/sf+1/7f/sf+3/7X/t/+1/77/r/+3/7H/sf+3/6//vP+8/7H/vP+3/7z/t/+3/77/tf+3/7f/vP+3/7f/vP+8/7z/vP+3/7f/vv++/7z/tf++/8T/t/+8/8L/vv++/7f/wv/C/77/vv++/77/vv/E/8L/wv/I/77/xP++/8j/wv/C/8T/xP/E/8T/xP/C/8T/xP/E/8j/yP/E/87/yP/K/8j/yv/O/8T/yv/O/87/yP/X/8r/yP/Q/8r/0P/U/9D/zv/U/87/zv/Q/9T/1P/U/9T/0P/U/9T/0P/U/87/1//U/9T/1//b/9v/2//Q/9v/1P/h/9T/1//b/9v/3f/X/9f/3f/X/93/1//X/+H/3f/d/9f/3f/X/+H/3f/j/9T/5//b/+H/3f/b/+P/4f/d/+H/3f/d/+H/4//j/+P/4//d/+P/4//n/+H/5//j/+f/6f/n/+n/4//n/+f/4//p/+3/5//p/+n/6f/n/+n/6f/n/+n/6f/p/+n/6f/t/+f/6f/t/+3/5//t/+n/7f/0/+f/7//t/+n/7//t//T/7f/t/+3/7f/2/+3/7f/v/+3/9P/v/+//7f/t/+//9P/6//b/7//v//T/9v/0//T/7//v/+//9v/0//b/9v/0//b/9v/2//T/+v/2//T//P/0//T/+v/6//r/9v/6//z/+v/2//r/9v/0/wAA9v8AAPb/9v/8//r/+v/2//z//P/6//r/AAD6//r/+v/6/wAA+v/8//r//P/8//r//P/6//z//P/8/wAA/P8EAAAA+v/6//r//P8EAAAA+v8AAAAA/P8AAPz//P/8//r//P8AAPr/AAAAAAAAAAD8//b/AAAAAPz/BAD8//z/AAAAAAAABAAAAAAABAAAAAQA/P/8//z//P8AAAAA/P8GAPz/BAAEAPz//P8AAAAA/P8EAAAABAD8/wAABAAAAPr/AAAAAAQABAAAAAAABAAEAAAA/P8AAAAA/P8GAAAA/P/6/wAA/P/8//r//P8AAPz/AAAAAAAA+v/6/wAA+v8EAPz/9v/6//z//P/8//z/+v/6//r/BAD8//b/+v/6//z//P/6//z/AAD8//z/AAD8//z/+v/6//r/+v/6/wAA/P/8//r/+v/8//b/9v/8//r/9v/8//b//P/6//b/+v/2//b//P/8/+///P/6//b/+v/0//b/+v/0//b/7//2//b/+v/2/+3/9v/2/+//9P/6//T/9P/v/+//7//0/+//7//0//T/7//v/+//7//v/+//7//v/+3/6f/v/+//7//t//b/7f/v/+n/7f/p/+n/7f/v/+n/7f/0/+//7//p/+3/7f/v/+3/5//t//T/7f/t/+f/7f/t/+f/5//j/+n/6f/n/+3/4//n/+n/6f/t/+P/5//p/+P/7f/h/+n/5//n/+f/5//n/+P/4f/p/+P/4//n/+H/6f/h/+P/4//j/+H/4f/h/+f/4//j/+P/3f/h/93/4//d/93/4f/h/+H/4f/b/+H/2//j/93/4//d/+H/3f/h/+f/3f/h/9f/3f/d/93/2//d/9v/2//b/9f/4f/b/93/2//d/9f/2//b/9f/1//U/9v/1P/b/9v/0P/b/9f/1P/U/9T/1P/b/9T/1P/X/9f/1//X/9f/1P/Q/9f/0P/U/9T/1P/O/9f/0P/U/9f/1P/Q/9T/0P/O/9T/0P/Q/87/1P/Q/9D/0P/K/87/0P/K/9D/zv/K/9D/zv/O/87/zv/K/87/zv/I/9D/zv/Q/8r/zv/O/8r/0P/I/87/yv/O/87/yv/Q/87/yv/K/8r/yv/K/87/yP/K/8j/0P/I/8j/yP/K/8T/yP/I/8T/xP/K/8r/xP/I/8L/zv/E/8T/wv/I/8T/wv/E/8j/yv/E/8j/yv/I/8T/yv/C/8T/wv++/8T/wv/E/8T/wv/C/8T/wv/E/77/vv/I/7z/wv/C/8L/vv/E/77/yv+8/8T/xP/C/8j/vv/E/7z/wv/E/77/t//E/8T/wv/E/8L/wv/E/8T/vv/E/8L/vv/K/77/vv++/77/wv++/8T/vv++/77/vv/E/77/xP++/8L/yP++/8T/yP++/77/yP/C/77/xP/E/77/vv++/77/wv/C/8L/vP++/8L/vP/C/8T/vP/E/8L/wv/C/8T/vP++/8L/vP/C/77/wv/E/8L/vv/C/8L/vP++/8T/wv+8/8L/xP/C/8L/wv+8/77/vv/E/8L/vv/E/8L/vv++/8L/vv/C/77/vv/C/77/yP++/8L/vv++/7z/wv/C/8L/vv/C/77/vP+8/7z/vP+8/77/vP+8/7z/xP++/8T/vv/C/8L/vP/E/7z/wv+8/77/wv++/77/vP/E/77/vP++/8L/xP++/8L/xP++/77/wv++/77/wv/C/8T/wv/C/8L/xP/C/77/vv/C/8j/vP/E/8T/wv/I/77/vv/E/8L/wv/E/8L/wv/C/8j/wv/C/8L/wv/C/8T/vv/E/8T/wv/C/8T/xP/C/8L/xP/E/8L/xP/C/8L/wv/C/8j/wv/C/8j/wv/E/8j/xP/E/8T/xP/E/8T/yP/E/8j/yP++/77/xP/C/8T/xP/K/8T/yP/E/8j/yP/C/9D/xP/E/8r/yP/E/8T/yv/I/8j/yv/E/8r/yv/E/8j/xP/E/8L/yv/I/8T/yv/K/8T/yP/K/8j/zv/K/8j/xP/O/8T/yP/K/8j/yP/I/8r/yP/K/8T/zv/I/8r/yP/E/8j/yv/Q/8j/xP/I/9D/wv/I/8j/yv/I/8j/0P/I/8r/zv/I/87/yv/K/87/yv/I/87/yP/O/87/zv/Q/9T/zv/I/87/zv/O/9D/yv/O/87/zv/Q/8r/zv/K/87/zv/K/8r/0P/Q/8r/0P/K/87/zv/O/8r/1P/O/87/1P/U/87/0P/Q/9D/zv/Q/9D/zv/U/87/1P/U/9T/1P/U/9D/zv/Q/9D/1//U/9D/1//Q/9T/1P/U/9D/1P/X/9T/0P/O/9T/0P/O/87/1//Q/9T/1//X/9D/0P/U/9T/1//U/9T/0P/U/9T/0P/X/9f/1P/X/9f/0P/X/9T/1//U/9T/1//U/9f/1P/U/9T/1//U/9f/zv/U/9D/1P/b/9T/zv/X/9v/2//O/9v/0P/Q/9f/0P/b/87/1//Q/87/2//U/9T/1P/O/9f/1//Q/9D/2//b/9T/1//Q/9T/1//Q/9T/1//U/9T/zv/X/9f/1P/X/9D/1P/U/9f/1//Q/9f/1//X/9f/1//U/9T/1P/U/9T/2//Q/9v/0P/b/9f/1P/d/9f/2//Q/9f/1P/Q/9f/2//U/9D/2//b/9f/1P/U/9f/2//U/93/0P/U/9f/2//b/9f/2//d/9T/1//X/93/1//d/9T/1P/X/9f/1//U/9v/1P/Q/9f/1//b/9f/1//b/9T/1//Q/9v/3f/X/9v/1//X/9D/1//d/9T/1//U/9f/1//X/9f/4f/X/93/1//X/9f/0P/h/9f/1P/b/9f/1//X/93/1P/X/93/1//d/9f/1//b/9T/3f/X/9T/1P/b/9T/2//d/9f/1//X/9T/1P/U/9f/2//U/9v/1P/d/9v/1//X/9v/1P/U/93/1P/X/9T/2//X/9f/1P/U/9f/1//X/9f/2//X/9f/1//b/9f/1P/X/9v/1P/d/9D/2//U/9v/1P/X/9v/2//d/9T/1//U/9v/2//Q/93/2//X/9f/1P/X/93/1P/U/9v/1P/b/9v/2//X/9D/1//U/9T/2//b/9f/2//Q/9f/1//X/9f/1P/X/9f/1//b/87/2//X/9T/3f/O/9T/1P/U/9T/1P/b/9T/1P/b/9D/2//X/9f/1//X/9T/1P/X/9T/1P/U/9f/2//U/9T/1//U/9T/1P/U/9D/1P/Q/9T/1P/X/9T/0P/Q/9f/1P/Q/9T/1P/O/9T/zv/Q/9D/zv/U/9D/1P/b/9D/0P/Q/8r/1//Q/9T/1//X/87/1P/Q/9D/0P/Q/9D/0P/K/87/1P/Q/9D/1//O/9D/0P/O/9T/0P/O/9D/1//Q/9T/0P/Q/9T/0P/Q/87/zv/U/9T/1P/Q/9T/0P/U/9f/1P/X/87/1//U/9T/1//O/9v/zv/Q/9f/1//Q/9D/1//Q/9D/1//U/9D/2//O/9f/2//U/9T/0P/Q/9f/zv/Q/9T/zv/Q/87/1P/Q/9T/1//U/9D/0P/O/9T/0P/Q/9T/0P/K/9T/0P/Q/9D/1P/Q/9D/0P/U/8r/0P/U/87/0P/O/9T/1P/O/9T/zv/K/8r/zv/O/87/0P/O/9f/yv/O/9D/zv/Q/87/1//K/87/zv/O/9T/1P/O/8r/zv/I/9D/yP/Q/87/yP/O/8r/0P/K/8r/0P/K/87/zv/O/87/zv/Q/87/yv/K/87/yv/K/9D/yv/I/9D/yv/O/8r/yv/K/8r/zv/Q/8r/zv/O/9T/yv/U/87/zv/U/8r/zv/U/87/yv/U/9D/zv/K/87/zv/O/87/yv/O/87/zv/O/9D/zv/K/87/0P/K/87/zv/K/8r/yv/U/8r/yv/I/9D/0P/O/87/0P/O/8j/1P/O/87/zv/O/9T/zv/O/8r/zv/K/87/yv/Q/87/zv/Q/8j/0P/O/87/zv/Q/87/zv/O/8r/1P/O/9D/yv/K/9D/yv/O/87/1P/O/9D/zv/O/9D/zv/Q/87/0P/O/87/zv/O/87/yv/K/9D/zv/O/9D/0P/O/9D/zv/K/8r/zv/Q/9D/zv/U/87/zv/Q/9D/0P/Q/9D/zv/Q/87/zv/U/9D/zv/U/9f/1//O/9D/1P/O/9D/0P/Q/9D/0P/O/9T/zv/Q/9f/0P/U/9D/1P/Q/87/1//O/9T/zv/O/87/0P/U/9T/zv/Q/9T/0P/Q/87/zv/Q/9D/zv/O/9D/zv/U/9D/1P/U/8r/0P/U/87/zv/U/87/1P/I/9f/0P/O/9T/1P/O/9D/0P/O/9T/yv/X/9T/1P/Q/9D/zv/Q/9D/0P/U/8r/1P/Q/9T/zv/U/9f/1P/O/9T/0P/U/9D/yv/b/9D/0P/Q/9D/zv/U/9D/1P/Q/9T/1P/U/9T/0P/Q/9D/0P/Q/9f/1P/U/9D/1//U/9T/0P/U/9v/0P/X/9T/zv/X/9D/1P/Q/9T/1P/U/9f/yv/b/9D/1P/U/9f/1P/U/9f/1P/d/9T/1P/Q/9T/1P/Q/9D/0P/U/9T/1P/X/9T/1P/X/9D/1P/X/9f/0P/X/9f/zv/U/9T/1P/U/9T/0P/b/9D/1//O/9v/0P/U/9T/zv/b/87/1//Q/9f/1P/X/87/1P/Q/9T/1//Q/87/0P/U/9D/1//Q/9f/1P/b/9f/1P/X/9f/1//Q/9T/2//U/9T/zv/d/9v/0P/b/9D/1//U/9f/1//U/9f/1P/X/9T/1//X/9v/1//X/9T/1//U/9T/0P/X/9T/1P/X/9v/1P/U/9v/1//b/9f/3f/X/9v/1//X/9f/1//b/9f/1//b/9f/1//U/9v/1//b/9f/2//X/93/1P/b/93/1//X/9T/2//X/93/1P/X/93/0P/b/9f/1//X/9f/3f/X/9f/1//X/9f/1P/X/9f/2//U/9f/1//d/9f/2//b/9v/2//b/9v/3f/X/93/2//X/93/1//b/9v/2//b/9v/2//d/9v/2//X/93/2//h/9f/3f/d/9f/4f/U/+H/2//b/9v/2//b/9v/1//b/9v/3f/X/+P/1//X/9v/1//d/93/2//b/9v/3f/d/9v/1//b/9v/1P/b/93/1//b/9v/1//d/9v/3f/b/9v/3f/b/93/1//d/9f/3f/b/9f/1P/X/93/1//b/9v/1//U/93/1//b/9v/1//d/9v/1//b/9f/2//X/9v/1//X/9v/3f/d/9f/3f/b/93/1P/b/93/2//X/9T/2//b/9v/1//b/93/1//d/93/2//j/+H/2//b/93/2//d/9v/2//X/9T/3f/d/9f/4f/d/9v/2//d/9v/3f/b/+H/2//b/9v/3f/b/9v/2//b/93/1P/h/93/3f/b/9T/3f/b/93/1//d/93/2//b/+H/3f/X/93/2//d/+H/2//d/9f/2//d/93/3f/d/93/3f/h/+H/4f/d/93/3f/b/+H/4f/d/9v/4f/b/9f/4f/h/9v/2//h/+H/2//b/9v/2//b/93/3f/b/+H/2//h/9v/4f/X/+P/1//h/9v/3f/h/9v/4//d/+P/2//d/9v/3f/j/9v/1//d/93/1//h/9f/3f/b/9v/3f/d/93/4f/d/9f/3f/X/93/1//d/93/4f/d/9v/3f/U/93/2//d/9T/3f/X/93/3f/X/+H/2//d/9f/3f/b/9v/2//d/9v/2//d/9f/2//h/9v/2//d/9v/2//d/93/2//d/93/3f/d/93/3f/b/93/3f/d/+H/4f/d/93/3f/d/+H/3f/d/+H/4f/b/9f/3f/h/93/3f/d/93/3f/b/93/4//d/93/2//X/93/2//h/+H/4f/h/93/3f/d/+H/3f/h/93/3f/b/9v/2//d/93/4f/X/+f/2//b/9v/1//d/+H/2//X/+P/4f/b/9f/3f/d/9f/2//h/9T/4f/b/9v/4f/X/+H/2//d/+P/1//d/93/2//b/93/2//d/93/4//b/93/4f/X/9v/4f/h/9v/4//h/+P/2//d/9v/3f/b/9v/2//h/93/2//d/93/3f/b/+P/4f/d/9v/3f/d/93/4f/b/93/4f/d/+H/3f/d/9v/1//d/93/1//b/93/3f/d/93/3f/X/9v/4f/h/9f/3f/X/+H/2//X/+H/3f/b/93/2//d/93/3f/X/93/4f/X/93/2//h/+H/3f/h/9v/2//b/9v/2//h/9v/3f/b/93/3f/h/93/3f/j/9v/4f/b/93/3f/d/+P/3f/d/93/4//d/93/2//j/93/4//h/9v/2//b/+H/2//h/93/4//d/9v/2//h/93/3f/d/+P/5//b/+H/3f/j/9v/4f/h/+P/3f/b/9v/3f/d/9v/2//b/+H/4f/j/+H/3f/d/+H/3f/d/93/2//h/93/5//h/9f/3f/b/9v/4//b/+H/4f/X/+H/3f/h/9v/2//h/93/1//d/+H/3f/d/+H/3f/b/9v/3f/b/93/2//d/9v/4f/d/93/3f/b/93/3f/b/9v/2//h/9v/4f/d/93/3f/d/93/1//h/9v/4f/X/+H/2//d/+H/2//j/9v/4f/d/93/4//d/93/2//d/93/4//h/9v/2//h/93/2//n/9v/4f/h/93/3f/j/+H/3f/h/+P/4f/d/93/3f/d/9v/3f/b/93/4f/h/9v/4f/h/+P/4f/h/93/4f/d/9v/3f/d/+H/4f/h/+f/4//j/+H/4f/h/93/4f/j/9v/4//j/93/5//h/93/4//h/+P/3f/h/+H/3f/h/+H/3f/h/+H/5//d/+H/4f/d/+H/4//h/93/4f/h/+P/4f/h/+H/4f/b/+H/4//h/93/4//h/+P/4f/h/+H/2//j/+H/5//d/93/4f/j/93/3f/n/9v/4//h/+P/3f/h/+H/4//h/+H/4f/h/+H/3f/d/+H/4//h/9v/4f/d/+P/4//h/+P/3f/h/+P/4//h/+H/3f/j/93/4//h/+H/4f/d/+H/4f/j/+H/4f/h/+H/4//n/93/4//n/+H/5//d/+H/4//j/+P/4f/n/+H/3f/h/+P/4//d/+P/4//d/+H/4f/h/+H/5//d/+H/5//j/+P/4f/n/+P/4//d/+f/4f/j/+n/4f/j/93/5//j/+f/4//h/+H/4//d/+f/4f/h/+P/5//h/+H/4//j/+f/4//p/9v/4//d/+f/4//j/+P/3f/n/+P/4//j/+f/4//n/+f/5//n/+H/4//j/+f/4//j/+f/4//j/+P/4//j/+P/5//h/+P/4f/n/+H/4//n/+f/4//h/+f/3f/p/+f/6f/j/+n/4//n/+n/5//j/+P/6f/d/+n/4f/p/+f/4f/j/+f/7f/h/+f/4//p/93/6f/n/+H/4//d/+f/4f/n/+f/5//n/+P/4//p/+P/4//p/+P/6f/h/+H/5//j/+f/5//p/+P/6f/d/+n/5//j/+3/3f/p/+H/4f/n/+f/4//n/+f/5//p/+P/6f/j/+H/6f/j/+P/7f/h/+f/6f/n/+f/6f/p/+P/4//p/+3/4//p/+P/6f/j/+P/5//n/+f/4f/n/+3/4//p/+n/4//h/+P/5//j/+f/4f/p/+f/5//j/+3/4//p/+P/5//p/+H/5//p/+f/4f/p/+f/4//h/+//4//p/+n/6f/v/+n/5//j/+n/5//n/+f/6f/p/+H/7f/j/+n/5//n/+P/6f/n/+f/4//n/+n/4//t/+H/5//n/+3/4//p/+f/7//p/93/7f/n/+P/4//j/+f/6f/h/+f/6f/j/+3/4//h/+f/4f/j/+f/5//t/+P/4//n/+n/4//p/+n/4//n/+f/4//j/+f/5//n/+P/6f/p/+f/5//j/+f/5//t/+f/4//p/+f/6f/t/+f/6f/j/+P/9P/h/+f/6f/n/+3/6f/n/+3/6f/p/+3/6f/n/+P/6f/j/+f/5//n/+n/5//p/+n/6f/p/+n/4//p/+n/6f/t/+f/5//p/+n/6f/t/+n/6f/n/+f/4f/p/+f/4//p/+f/7f/j/+f/5//t/+n/4//t/+n/4//p/+P/7f/t/+f/5//p/+f/6f/n/+n/6f/p/+f/6f/n/+f/5//n/+n/4//t/+f/4//p/+P/6f/n/+f/6f/j/+f/5//p/+n/7f/n/+f/4//n/+3/5//p/+f/6f/n/+f/6f/n/+n/6f/j/+f/5//n/+n/3f/t/+P/6f/n/+f/7f/h/+n/6f/v/+P/6f/j/+3/6f/t/+n/5//p/+P/7f/n/+n/5//p/+n/5//p/+P/6f/n/+P/5//t/+n/5//t/+P/7f/p/+n/7f/p/+f/5//p/+f/6f/n/+f/7f/j/+n/5//p/+n/5//n/+f/7f/n/+P/6f/p/+f/6f/p/+n/5//t/+n/6f/p/+f/6f/n/+3/5//n/+f/5//t/+P/6f/n/+n/5//t/+f/6f/t/+f/6f/n/+n/6f/n/+f/5//p/+f/6f/n/+3/7f/n/+3/6f/n/+n/5//p/+f/6f/p/+n/4f/p/+3/4//n/+n/6f/t/+n/6f/n/+f/6f/t/+n/6f/t/+f/6f/n/+n/5//n/+3/5//p/+n/7f/p/+f/7f/n/+//7f/t/+3/5//n/+3/5//n/+n/6f/j/+3/7f/p/+n/6f/t/+n/6f/p/+P/7//p/+n/5//t/+3/6f/n/+f/7//t/+n/7f/n/+n/5//p/+3/5//t/+3/7f/t/+f/7f/p/+3/7f/v/+//5//t/+3/6f/j/+3/6f/t/+f/6f/t/+f/7//j/+//6f/n/+//6f/p/+n/7f/t/+3/5//v/+n/6f/t/+f/7f/n//T/6f/t/+f/9P/p/+f/7f/p/+3/4//v/+3/4//p/+f/7//n/+3/5//v/+3/7f/p/+3/7//n/+//5//t/+3/6f/p/+3/5//t/+n/7f/v/+n/7//p/+3/7f/t/+3/6f/p/+//6f/t/+f/9P/n/+n/7f/v/+3/6f/t//T/6f/t/+n/6f/p/+n/7//p/+3/7f/p/+f/9P/p/+n/7f/p/+3/6f/t/+3/6f/p/+n/7f/t/+n/7//p//T/6f/p//T/7f/p/+//7f/p/+f/7//t/+3/7//v/+//9P/t/+n/7//n/+3/7//t/+//7f/t/+//7//p/+//7//p/+3/5//p/+3/7f/t/+n/7//p/+3/7//p/+3/7f/v/+n/7f/t/+//6f/v/+3/7//v/+n/7f/t/+//7//t/+3/7f/t/+3/7//v/+//7//t/+n/7f/v/+3/7//t/+3/7f/v/+3/7//v/+//7//v//T/9P/t/+3/9P/p/+3/7f/t/+3/7f/t/+3/7f/v//T/7f/v/+//9P/t/+//7f/0/+//6f/v/+n/7//p/+//7//t/+3/7//v/+3/7f/t/+3/9P/p/+3/7//v/+3/7//v/+3/7f/v/+3/7f/v/+n/7f/p/+3/9P/t/+//7f/t/+//7f/t//T/7f/t/+//7f/v/+//7f/t//T/6f/p/+3/7//t/+3/7//p/+3/6f/t/+//7//p/+//7//p/+3/7f/v/+3/9P/p/+//7f/v/+3/7f/t/+n/7//0/+//7f/v/+//7f/t/+//6f/v/+//7f/v//T/7//t/+//6f/v/+//7f/t/+//7//p//b/9P/v//T/7//t//T/9P/0//T/6f/v/+3/7//v//T/9v/v//T/7//0/+n/9P/0/+3/9P/2/+//6f/6/+f/7//v//T/7//t/+//7//0/+//7//p/+3/7//p/+//7//0//T/7//t/+3/9P/v/+//7f/t//b/7f/p/+3/7//2//T/7//p//T/7//0/+//9v/0/+n/9P/2/+n/7//t//T/9P/p//b/7//0/+//7//v/+//7//v//b/7//t/+//7f/0//T/7//0/+//7//0//b/7//0/+n/9P/v//T/7f/v//b/7//t/+//9P/p//T/7//v/+3/9P/0/+3/9P/v/+//7f/v/+3/7f/0/+//7f/v/+3/7//v/+3/7f/v/+//7//n//T/7f/v/+3/7f/0/+n/9P/v/+//7f/v/+//7f/2/+3/7f/t/+//6f/t//T/7//0/+//7f/v//T/7//t/+//9P/v//T/7f/v//T/7//v/+n/7//t/+//7f/v//T/6f/t/+3/7//v/+3/7//t/+3/9P/t//b/9P/v/+3/9P/t/+//9P/2/+//9P/0/+3/9P/v//T/7//0//T/7f/6//T/9P/2/+3/9P/2/+n/9P/2/+n/9P/0/+n/9P/t//T/7//2/+//7//2/+//9v/t/+//+v/v/+3/7//p//b/6f/t/+//7//v/+3/7//v/+//7//v/+//9P/p/+//7//v/+//7//t//T/7//0/+//9P/v/+3/7//0/+//9P/v/+3/9P/t/+//9v/t/+//7//v//T/7f/v/+//7//t//T/7//2/+3/9P/v/+//7//t//b/6f/0/+//9P/0//T/7f/0//T/7f/0//b/9P/2/+3/9P/v//T/9P/0//T/7f/0//T/9P/2/+3/7//2/+//7//t//T/7//0/+3/7//v//b/6f/2//T/9P/v/+//9P/0//T/7//0/+3/9P/t/+3/9P/t/+//9P/t/+//7//0//b/7f/2/+//9v/0/+//7//2/+//7//6//T/9P/0/+//9P/0//T/7//0//T/7//v/+//9P/t/+//9v/v//b/7//0/+//9P/0/+//+v/t//T/9P/0/+//9v/v//T/7//0//b/9P/0//b/7//0//T/7//0/+n/9v/0//T/7//2//T/9P/v//b/7f/2//b/7f/2/+3/7//v/+//9v/0//b/9P/0//b/9v/2//T/+v/v//T/9P/6//b/9P/6/+//+v/0//b/9v/0//b/9v/v//b/9v/0//T/9v/2//b/9v/6//T/+v/0//T/9P/2//T/+v/0/+//9v/2//b/7//2//T//P/0//b/9v/0//b/9v/2//T/7//2//T/9P/v//b/+v/0//r/9v/t//b/9P/2//b/9v/0//b/9v/0//b/+v/0//b/9P/2//T/+v/0//b/9v/6//b/9v/2//T//P/v//z/9P/2//r/9P/2/+//9P/2//r/7//0//T/9v/0/+//+v/0//b/7//v//T/9P/2//T/9P/6//T/9P/v//T/9v/v//b/9v/v//r/9P/6//r/7f/8//r/9v/0//T/+v/2//b/7//2//r/7//8//T/9P/0//b/+v/2//b/9P/6/+//9P/0//T/9P/0/+//9P/6//b/7//0/+3/9v/v/+//+v/v//b/9v/v//r/9P/v//b/9v/6//r/9P/0//b//P/2//T//P/0//T/+v/2//b/9v/2//r/+v/6//b/9v/0//b/9v/6//b/9P/0//b/+v/v//r/9v/2/+//+v/v//r/+v/0//z/9v/6//b/9P/2//T/9v/2//b/9v/2//T/9v/0//b/+v/2//b/9P/2/wAA7//6//b/9v/8//T/9v/0//z/9P/2//r/9v/6//T/+v/v//r/9P/2//T/9v/0/+///P/2//T/9v/2//T//P/t//T/9v/0//T/+v/2//T/9v/2/+//9v/v//b/9v/v//T/7//0//r/9P/2/+//9v/0/+//7//6//T/9v/8/+//+v/0//T/+v/2//T/9P/2//T/9P/2//T/+v/2//r/9v/6//T/9P/6//T/9v/2//T/9v/0//b/9v/6//b/9v/2//b/9v/0//r/9v/2//r/7//6/+//9v/2//b/9v/2//b/9P/2//b/9v/6//b/9v/2//r/7//8//T/+v/6/+//9v/t//T/9v/v//T/7//2//T/9v/2//b/9v/2//r/9v/0//r/9P/0//T/+v/2//T/9v/0//b/9P/2//b/7//6//T/9P/2//b/9v/6//b/9P/0/+///P/2//T/9P/2//r/9P/2//b/9v/2//b/+v/v//b/9v/2//b/9v/v//b/+v/0//b/7//6//b/9v/2//b/7//2//b/9P/6//T/9v/2//b/9v/0/+//+v/0//T/9P/6/+//9v/2//T/+v/2//b/9P/8//T/+v/2//r/9P/0//r/9v/6/+//9v/0//r/9P/2//b/9v/2//T/AAD0//b/9P/6//r/7//6//b/9P/2//b/9v/6//z/9v/2//r/+v/2//r/+v/0//r/7//8//b/+v/2//r/9v/6//r/9v/6//b/9v/8//b/7//6//T//P/2//r/9v/6//b//P/2//b/9v/6//b/9v/6/+//9v/2//b/+v/0//T/9v/6//b/9v/2//r/9v/2//T/+v/2//T/9v/2//r/9P/8//b/9v/2//T/9v/2//b/9P/2//z/+v/2//r/+v/6//r/9v/2//T//P/6/wQA7//2//b/9P/6//b/9v/v//r/9v/2//r/+v/0//T/+v/2//b//P/0//b/9P/2//r/9P/6//b/9P/2//r/9v/2//r/9v/2//r/9v/2//b/+v/2//b/9v/2//z/+v/0//z/+v/0//T/+v/2//b/9v/2//T/9P/8/+//9v/6//b//P/6//b/+v/6//b//P/0//T/9v/2/+//9v/2//z/9P/2//T/9v/0//r/9v/2//r/9P/8//r/9P/v//r/9P/6//r/9v/8//T/+v/0//b/9v/2//T/9v/2//b/9v/0//b/+v/0//r/9P/6//b/9v/6//b/9v/0//r/9P/6//b/AAD0/wAA9v/8//z//P/6//r/+v/2//r/9P/8//z/9v/6//T//P/2//r/+v/6//b/+v/8//b/+v/6//b//P/0/wAA9P/0//z/+v/6//z//P/2//b//P/6//z/+v/2//b/+v/8//z//P/2//r//P/6/wQA9v8AAPT//P/6//b/AAD2/wAA+v/2/wAAAAD8//z/+v/2//r/9v/2//r/9v/6//r/9v/2//z/+v/6//r/9v/2//z/AAD8//z/+v/0//z/9v/6/wAA9P/6//r/+v/6//r/+v/6/wAA+v/6//z/+v/0//z//P/6/wAA+v/6//z/+v/8//r/9v/6//z/9v/6//b/+v/8//r//P/6//r//P8AAPb//P/6//r/9v/6//r/9v/6//r/+v/0/wAA9v/6//z/+v/6//r//P/8//b/+v/2//r/AAD0//r/+v/2//b//P/2//T/+v/2//r/9v/6//z/+v/6//z/AAD6//b/+v/2//z/+v/6/wQA+v/2/wAA+v/8//b/+v/6//z/9v/2//z/+v/6//z//P/2//z/+v/8//r/9v/8//r//P/2//z//P/6//b/+v/8//r/+v/6//z//P/8//z/+v/8//z/9P8AAPb/+v8AAPz//P/8/wAA/P/8//r//P/6//r//P/6//r/+v/6//z/+v/6/wAA/P8AAPb/+v/6//r/+v/8//z/9v/8//r/AAD8//z//P8AAPr/9v/6//z/9v/6//r//P/2//T//P/2//r/BAD2//r/+v/8//z/+v/8//b//P/8//r/+v/8//r/+v/6//z/+v8EAAAA+v/8/wAAAAD6//z//P/6//z/9v8AAPz/+v/8//z//P/8//z/AAD8//b/AAD2//z//P/6/wAAAAD8//z/AAD6//r//P/8/wAA/P8AAPz/AAAAAPr/BAD8//z/+v8AAPr//P/8//r//P/8//z/AAD2/wAA+v/6//b/+v/6//b/+v/6//r/+v/8//b/+v/6//r//P/6//z/+v/8//z/9v/8//z//P/6//z/9v8AAPz/9v/8//b//P/8//b/+v/2//z//P/6//z//P/8//r//P/8//b//P/6//z/+v/8//z/9v8AAPr/+v/8//r/+v/8//z/+v/6//b/AAD0/wAA9v/6//r/+v/8//b//P/8//r/9v/8//z//P/8/wAA/P8AAPz/+v/6/wAABgD2//z/+v/8//b/+v/6//b/AAD6//z//P/6//r/AAD6//z/+v8AAAAA+v/6//r//P/6//r/AAD8//z/AAD2//z/AAD8/wAA9v/6//z/+v/6//r//P/6//z/+v8AAPT/AAD8//z/9v/8/wAA+v/8//z/AAD6/wAA/P8AAPz/+v/2//z//P/8/wAA9v/8//z//P/6//z//P/6//z/9v/8//z//P8AAPb/AAD8//r/+v/6//r//P/6/wQA+v/8//r/9v8AAPb//P/6//r//P/8//z//P/6//z/9v8AAPb/BgD2//z/AAD0//z/+v/8//r//P8AAAAA+v8AAPT/BAD8/wAAAAD2//z//P/6/wQA/P/8//z//P/2//r//P/8//r/+v8AAPb/AAAAAPz/AAD6/wAA9v/6//r/9v8AAPb/BADv//r/+v/6//r/+v/8//z/+v/6/wAA+v/6//T/BAD2//r/+v8AAPz/+v/8//b/AAD6//r/+v8AAAAA+v/6//z//P8AAPr/AAD6//r/+v/2//z/+v8AAPr//P/6//z//P/6/wYA+v/8/wAA+v/8//T/BAD6//r/+v/6//r//P8AAAAAAAAEAPr//P/8//T/BAD8/wAA/P/8/wQA+v/8//z/+v/6//r/9v8EAPb/9v8AAPr/9P/8//z//P/8//z/+v/6//b//P/6//r//P/6//r//P/8/wAAAAD2//z/+v/8//b/AAD8//b//P/8//z/+v/8/wAA/P/8//z/+v/8//z/+v/6//r/AAD2//z/+v/6/wQA+v8AAPb//P/6//b//P/8/wAA9v8AAPr/+v/6//b/AAD2//z/+v/8/wAA/P/8//z//P/8//z/AAD2//z/AAD6//z//P/8//b/+v/6//z/+v/8//z/+v/6//z//P/6/wAA9P8AAPz/+v/6//z/+v/6//z/9v8AAPr/AAD2//z//P/6//z//P/2/wAA/P/6/wAAAAAAAPr//P/8/wAA9v/6//r/9v/8/wAA+v/8/wAA/P/8/wQA/P/6//z/AAAAAPz/9v/8/wAA9v8AAPT//P8EAPr//P/6/wAA/P/6//r//P8AAPr/BAD8/wAA+v8AAPz//P8AAPz//P/8//z/+v/6//z//P/8//z//P/2//z//P/2//z//P/2//z/+v/8//r//P/8//r/+v/8//z//P/8//z//P/8/wAA/P/8//r/BAD8//z//P8AAPz/+v/6//z//P/8/wAA/P/8//z//P/6//z//P/8/wQA9v/8//z/9v8AAPr/+v/8/wQA+v8AAPz/9v8EAPz/AAD6//z//P/8//z/+v8AAPb/AAAAAPr//P8AAPb/BAD6//z//P/8/wAA+v/6/wQA+v/2//r//P8AAPb//P/8//r/9v/8/wAA9v8AAAAA/P/8//z//P/8/wAA+v/8//b/+v/8//z/9v8AAPz//P/6//b//P8EAPz/BgAAAPr/AAAAAPz/+v/8//z/+v/6//z/AAD6/wAA/P/6//z//P/2/wAAAAD2//z//P8GAAQA9v8GAPr/AAAGAPr//P8AAPz//P8AAPb//P/8//z/AAD6//z//P/6//z//P8AAPz/AAD6/wAAAAAEAPz/AAAAAAAA/P8AAPz//P8AAPr/BAD6//r/BAAAAPz//P8AAPr/AAAAAAAA/P/6/wQA+v/8/wAAAAAAAPr/AAAAAPr//P8AAPz/AAD8//b//P8AAPr/+v/8//z//P/6//z/+v/8//r/+v/8//z/AAD8//r/BAD2/wAA+v/6//z/+v8AAPr/AAAAAAAA+v/8//z/+v8AAAAAAAD8//r//P/8//r//P/6//z//P8AAPz//P/8//r/+v/2//z/AAD6//z/+v/8//r//P8AAPT//P/6//b/AAAAAPz/+v/6//r/+v8AAAAA9v8AAPz/+v/8/wAA/P/2/wAA+v/6//z/9v/6//z//P/8//r/AAD8/wAA/P/8/wAA+v/8/wAABAD8//z//P8AAPz/+v8AAPz/BAAAAAAA/P8AAPz/+v8AAAAA/P/8//z//P/8//z/+v8AAPz/+v8AAPz//P/6//r/9v8EAPr/+v8EAPr//P8AAPr/BAD6//z//P/6/wAAAAD2/wYA/P8GAPr/AAAAAAAA/P/6/wAA+v8AAAAA/P/6/wAA+v/8/wAA+v8AAPz/AAD6/wAAAAD8/wAAAAD8/wAAAAD8/wAA/P8EAPr//P/8/wAA/P/8//z/9v8AAPz/+v/6/wAAAAD8/wAA+v8AAPb//P/8//z//P8AAAAA/P8EAPb//P/2/wAA/P/6//r//P/6//b/+v/8//z/BAD6//b//P/8/wAA/P/8//z/AAD0//z/+v8AAPr/+v/6//b/+v/6/wAAAAD8//b//P/8//z/+v8AAAAA/P/6//z/+v/8//z/AAD8//r/BAD6//z//P/6/wQA/P/8/wAA9v/6/wAA/P/8/wAA9v/6//z/+v/8//z/AAAAAPz//P/8//z/AAAAAPz//P8EAPz//P/8/wQA/P8AAAAAAAAAAPr//P/8/wQA/P/8/wAABAD6/wAAAAAAAAAA/P8AAPz/BAD6//r//P8AAAAA/P/8//r/BAD8//z/AAD6//z//P8AAAAA+v/8//r//P8EAPb//P/8//z//P/8//z//P8AAAAA/P/6//z//P8AAPr/BAD6//r//P/8//r/AAAAAPz/AAAAAAAAAAAAAPb/AAAAAPz//P/6/wAAAAD8//z/AAD6/wAAAAD6//r//P8EAPz/AAAEAPz/AAD2/wAA/P/8//z/+v/6//z/+v/6//z/+v/8/wQA+v/2/wAAAAD6/wAA9v8AAPr/+v8AAPz/AAD6/wQA9v/6/wYA/P/8/wAABAD8/wAA/P/8/wQA+v8AAPz/BAAEAPr/BAD6/wYA/P/8/wYAAAD6//r/AAD8/w==\" type=\"audio/x-wav\" />\n",
       "                    Your browser does not support the audio element.\n",
       "                </audio>\n",
       "              "
      ],
      "text/plain": [
       "<IPython.lib.display.Audio object>"
      ]
     },
     "metadata": {},
     "output_type": "display_data"
    }
   ],
   "source": [
    "from audio_scatter.plotly import create_player, play, audio_scatter\n",
    "\n",
    "player_id = 1000\n",
    "create_player(player_id)"
   ]
  },
  {
   "cell_type": "markdown",
   "metadata": {},
   "source": [
    "Next, assign a wav file to the player and listen to it (autoplay is true by default)"
   ]
  },
  {
   "cell_type": "code",
   "execution_count": 2,
   "metadata": {},
   "outputs": [],
   "source": [
    "play('sounds/808-Snare01.wav',player_id)"
   ]
  },
  {
   "cell_type": "markdown",
   "metadata": {},
   "source": [
    "Option for only playing a part of the audio"
   ]
  },
  {
   "cell_type": "code",
   "execution_count": 3,
   "metadata": {},
   "outputs": [],
   "source": [
    "play('sounds/808-Snare01.wav',player_id, start=0, stop=0.01)"
   ]
  },
  {
   "cell_type": "markdown",
   "metadata": {},
   "source": [
    "## Drumkit example\n",
    "\n",
    "Now, lets create an interactive scatter plot with a sound in every dot. \n",
    "\n",
    "The scatter plot is made with seaborn, so the coordinates, colors, sizes and file paths are set in a pandas dataframe. The *x*   and   *y* columns determine the coordinates, the *audio_path* column indicates where to read the audio files, and the *index* and *text* column are displayed when clicked."
   ]
  },
  {
   "cell_type": "code",
   "execution_count": 4,
   "metadata": {},
   "outputs": [],
   "source": [
    "names = ['808-Kicks01',\n",
    " '808-OpenHiHats02',\n",
    " '808-Cowbell1',\n",
    " '808-HiHats01',\n",
    " '808-Clap01',\n",
    " '808-Conga1',\n",
    " '808-Snare01',\n",
    " '808-Clave1',\n",
    " '808-Rim1']\n",
    "\n",
    "path = 'sounds/'\n",
    "audio_path = [path+name+'.wav' for name in names]"
   ]
  },
  {
   "cell_type": "code",
   "execution_count": 5,
   "metadata": {},
   "outputs": [
    {
     "data": {
      "text/html": [
       "<div>\n",
       "<style scoped>\n",
       "    .dataframe tbody tr th:only-of-type {\n",
       "        vertical-align: middle;\n",
       "    }\n",
       "\n",
       "    .dataframe tbody tr th {\n",
       "        vertical-align: top;\n",
       "    }\n",
       "\n",
       "    .dataframe thead th {\n",
       "        text-align: right;\n",
       "    }\n",
       "</style>\n",
       "<table border=\"1\" class=\"dataframe\">\n",
       "  <thead>\n",
       "    <tr style=\"text-align: right;\">\n",
       "      <th></th>\n",
       "      <th>x</th>\n",
       "      <th>y</th>\n",
       "      <th>color</th>\n",
       "      <th>audio_path</th>\n",
       "      <th>label</th>\n",
       "    </tr>\n",
       "    <tr>\n",
       "      <th>index</th>\n",
       "      <th></th>\n",
       "      <th></th>\n",
       "      <th></th>\n",
       "      <th></th>\n",
       "      <th></th>\n",
       "    </tr>\n",
       "  </thead>\n",
       "  <tbody>\n",
       "    <tr>\n",
       "      <th>0</th>\n",
       "      <td>0</td>\n",
       "      <td>0</td>\n",
       "      <td>0</td>\n",
       "      <td>sounds/808-Kicks01.wav</td>\n",
       "      <td>808-Kicks01</td>\n",
       "    </tr>\n",
       "    <tr>\n",
       "      <th>1</th>\n",
       "      <td>0</td>\n",
       "      <td>1</td>\n",
       "      <td>1</td>\n",
       "      <td>sounds/808-OpenHiHats02.wav</td>\n",
       "      <td>808-OpenHiHats02</td>\n",
       "    </tr>\n",
       "    <tr>\n",
       "      <th>2</th>\n",
       "      <td>0</td>\n",
       "      <td>2</td>\n",
       "      <td>2</td>\n",
       "      <td>sounds/808-Cowbell1.wav</td>\n",
       "      <td>808-Cowbell1</td>\n",
       "    </tr>\n",
       "    <tr>\n",
       "      <th>3</th>\n",
       "      <td>1</td>\n",
       "      <td>0</td>\n",
       "      <td>3</td>\n",
       "      <td>sounds/808-HiHats01.wav</td>\n",
       "      <td>808-HiHats01</td>\n",
       "    </tr>\n",
       "    <tr>\n",
       "      <th>4</th>\n",
       "      <td>1</td>\n",
       "      <td>1</td>\n",
       "      <td>4</td>\n",
       "      <td>sounds/808-Clap01.wav</td>\n",
       "      <td>808-Clap01</td>\n",
       "    </tr>\n",
       "    <tr>\n",
       "      <th>5</th>\n",
       "      <td>1</td>\n",
       "      <td>2</td>\n",
       "      <td>5</td>\n",
       "      <td>sounds/808-Conga1.wav</td>\n",
       "      <td>808-Conga1</td>\n",
       "    </tr>\n",
       "    <tr>\n",
       "      <th>6</th>\n",
       "      <td>2</td>\n",
       "      <td>0</td>\n",
       "      <td>6</td>\n",
       "      <td>sounds/808-Snare01.wav</td>\n",
       "      <td>808-Snare01</td>\n",
       "    </tr>\n",
       "    <tr>\n",
       "      <th>7</th>\n",
       "      <td>2</td>\n",
       "      <td>1</td>\n",
       "      <td>7</td>\n",
       "      <td>sounds/808-Clave1.wav</td>\n",
       "      <td>808-Clave1</td>\n",
       "    </tr>\n",
       "    <tr>\n",
       "      <th>8</th>\n",
       "      <td>2</td>\n",
       "      <td>2</td>\n",
       "      <td>8</td>\n",
       "      <td>sounds/808-Rim1.wav</td>\n",
       "      <td>808-Rim1</td>\n",
       "    </tr>\n",
       "  </tbody>\n",
       "</table>\n",
       "</div>"
      ],
      "text/plain": [
       "       x  y  color                   audio_path             label\n",
       "index                                                            \n",
       "0      0  0      0       sounds/808-Kicks01.wav       808-Kicks01\n",
       "1      0  1      1  sounds/808-OpenHiHats02.wav  808-OpenHiHats02\n",
       "2      0  2      2      sounds/808-Cowbell1.wav      808-Cowbell1\n",
       "3      1  0      3      sounds/808-HiHats01.wav      808-HiHats01\n",
       "4      1  1      4        sounds/808-Clap01.wav        808-Clap01\n",
       "5      1  2      5        sounds/808-Conga1.wav        808-Conga1\n",
       "6      2  0      6       sounds/808-Snare01.wav       808-Snare01\n",
       "7      2  1      7        sounds/808-Clave1.wav        808-Clave1\n",
       "8      2  2      8          sounds/808-Rim1.wav          808-Rim1"
      ]
     },
     "execution_count": 5,
     "metadata": {},
     "output_type": "execute_result"
    }
   ],
   "source": [
    "import pandas as pd\n",
    "\n",
    "coords = [(x,y) for x in range(0,3,1) for y in range(0,3,1)]\n",
    "\n",
    "x,y = zip(*coords)\n",
    "\n",
    "data = pd.DataFrame({'x':x, 'y': y, 'color':range(9), 'audio_path':audio_path, 'index': range(9), 'label': names  }).set_index('index',drop=True)\n",
    "data"
   ]
  },
  {
   "cell_type": "markdown",
   "metadata": {},
   "source": [
    "Next, call audio_scatter with the dataframe and the player id. Matplotlib widget is needed to haver interactive plots"
   ]
  },
  {
   "cell_type": "code",
   "execution_count": 6,
   "metadata": {
    "scrolled": false
   },
   "outputs": [
    {
     "data": {
      "application/vnd.jupyter.widget-view+json": {
       "model_id": "7524d674a8d34a56bf662b6f6aa031d2",
       "version_major": 2,
       "version_minor": 0
      },
      "text/plain": [
       "FigureWidget({\n",
       "    'data': [{'hovertemplate': 'x=%{x}<br>y=%{y}<br>label=%{text}<br>color=%{marker.color}<extr…"
      ]
     },
     "metadata": {},
     "output_type": "display_data"
    }
   ],
   "source": [
    "audio_scatter(data, player_id=1000, label='label',color='color')"
   ]
  },
  {
   "cell_type": "markdown",
   "metadata": {},
   "source": [
    "#### If no sound is produced and no error is seeing, it is probably not finding the audio files, check the audio path"
   ]
  },
  {
   "cell_type": "markdown",
   "metadata": {},
   "source": [
    "## Play a segment of the audio with start and stop values"
   ]
  },
  {
   "cell_type": "code",
   "execution_count": 7,
   "metadata": {},
   "outputs": [
    {
     "data": {
      "application/vnd.jupyter.widget-view+json": {
       "model_id": "2d18c54f07de41c18d0cc46538618f2b",
       "version_major": 2,
       "version_minor": 0
      },
      "text/plain": [
       "FigureWidget({\n",
       "    'data': [{'hovertemplate': 'x=%{x}<br>y=%{y}<extra></extra>',\n",
       "              'legendgroup': …"
      ]
     },
     "metadata": {},
     "output_type": "display_data"
    }
   ],
   "source": [
    "data['start'] = 0\n",
    "data['stop'] = 0.001\n",
    "    \n",
    "audio_scatter(data, player_id=1000, label=None,  start='start', stop='stop')"
   ]
  },
  {
   "cell_type": "markdown",
   "metadata": {},
   "source": [
    "## In 3D"
   ]
  },
  {
   "cell_type": "code",
   "execution_count": 8,
   "metadata": {},
   "outputs": [
    {
     "data": {
      "text/html": [
       "<div>\n",
       "<style scoped>\n",
       "    .dataframe tbody tr th:only-of-type {\n",
       "        vertical-align: middle;\n",
       "    }\n",
       "\n",
       "    .dataframe tbody tr th {\n",
       "        vertical-align: top;\n",
       "    }\n",
       "\n",
       "    .dataframe thead th {\n",
       "        text-align: right;\n",
       "    }\n",
       "</style>\n",
       "<table border=\"1\" class=\"dataframe\">\n",
       "  <thead>\n",
       "    <tr style=\"text-align: right;\">\n",
       "      <th></th>\n",
       "      <th>x</th>\n",
       "      <th>y</th>\n",
       "      <th>z</th>\n",
       "      <th>color</th>\n",
       "      <th>audio_path</th>\n",
       "      <th>label</th>\n",
       "    </tr>\n",
       "    <tr>\n",
       "      <th>index</th>\n",
       "      <th></th>\n",
       "      <th></th>\n",
       "      <th></th>\n",
       "      <th></th>\n",
       "      <th></th>\n",
       "      <th></th>\n",
       "    </tr>\n",
       "  </thead>\n",
       "  <tbody>\n",
       "    <tr>\n",
       "      <th>0</th>\n",
       "      <td>0</td>\n",
       "      <td>0</td>\n",
       "      <td>0</td>\n",
       "      <td>0</td>\n",
       "      <td>sounds/808-Kicks01.wav</td>\n",
       "      <td>808-Kicks01</td>\n",
       "    </tr>\n",
       "    <tr>\n",
       "      <th>1</th>\n",
       "      <td>0</td>\n",
       "      <td>0</td>\n",
       "      <td>1</td>\n",
       "      <td>1</td>\n",
       "      <td>sounds/808-OpenHiHats02.wav</td>\n",
       "      <td>808-OpenHiHats02</td>\n",
       "    </tr>\n",
       "    <tr>\n",
       "      <th>2</th>\n",
       "      <td>0</td>\n",
       "      <td>1</td>\n",
       "      <td>0</td>\n",
       "      <td>2</td>\n",
       "      <td>sounds/808-Cowbell1.wav</td>\n",
       "      <td>808-Cowbell1</td>\n",
       "    </tr>\n",
       "    <tr>\n",
       "      <th>3</th>\n",
       "      <td>0</td>\n",
       "      <td>1</td>\n",
       "      <td>1</td>\n",
       "      <td>3</td>\n",
       "      <td>sounds/808-HiHats01.wav</td>\n",
       "      <td>808-HiHats01</td>\n",
       "    </tr>\n",
       "    <tr>\n",
       "      <th>4</th>\n",
       "      <td>1</td>\n",
       "      <td>0</td>\n",
       "      <td>0</td>\n",
       "      <td>4</td>\n",
       "      <td>sounds/808-Clap01.wav</td>\n",
       "      <td>808-Clap01</td>\n",
       "    </tr>\n",
       "    <tr>\n",
       "      <th>5</th>\n",
       "      <td>1</td>\n",
       "      <td>0</td>\n",
       "      <td>1</td>\n",
       "      <td>5</td>\n",
       "      <td>sounds/808-Conga1.wav</td>\n",
       "      <td>808-Conga1</td>\n",
       "    </tr>\n",
       "    <tr>\n",
       "      <th>6</th>\n",
       "      <td>1</td>\n",
       "      <td>1</td>\n",
       "      <td>0</td>\n",
       "      <td>6</td>\n",
       "      <td>sounds/808-Snare01.wav</td>\n",
       "      <td>808-Snare01</td>\n",
       "    </tr>\n",
       "    <tr>\n",
       "      <th>7</th>\n",
       "      <td>1</td>\n",
       "      <td>1</td>\n",
       "      <td>1</td>\n",
       "      <td>7</td>\n",
       "      <td>sounds/808-Clave1.wav</td>\n",
       "      <td>808-Clave1</td>\n",
       "    </tr>\n",
       "  </tbody>\n",
       "</table>\n",
       "</div>"
      ],
      "text/plain": [
       "       x  y  z  color                   audio_path             label\n",
       "index                                                               \n",
       "0      0  0  0      0       sounds/808-Kicks01.wav       808-Kicks01\n",
       "1      0  0  1      1  sounds/808-OpenHiHats02.wav  808-OpenHiHats02\n",
       "2      0  1  0      2      sounds/808-Cowbell1.wav      808-Cowbell1\n",
       "3      0  1  1      3      sounds/808-HiHats01.wav      808-HiHats01\n",
       "4      1  0  0      4        sounds/808-Clap01.wav        808-Clap01\n",
       "5      1  0  1      5        sounds/808-Conga1.wav        808-Conga1\n",
       "6      1  1  0      6       sounds/808-Snare01.wav       808-Snare01\n",
       "7      1  1  1      7        sounds/808-Clave1.wav        808-Clave1"
      ]
     },
     "execution_count": 8,
     "metadata": {},
     "output_type": "execute_result"
    }
   ],
   "source": [
    "import pandas as pd\n",
    "\n",
    "coords = [(x,y,z) for x in range(0,2,1) for y in range(0,2,1) for z in range(0,2,1)]\n",
    "\n",
    "x,y,z = zip(*coords)\n",
    "\n",
    "data = pd.DataFrame({'x':x, 'y': y, 'z':z, 'color':range(len(x)), 'audio_path':audio_path[:len(x)], 'index': range(len(x)), 'label': names[:len(x)]  }).set_index('index',drop=True)\n",
    "data"
   ]
  },
  {
   "cell_type": "code",
   "execution_count": 9,
   "metadata": {},
   "outputs": [
    {
     "data": {
      "application/vnd.jupyter.widget-view+json": {
       "model_id": "d282e5f26fd141e1a2864c7a4e043f6f",
       "version_major": 2,
       "version_minor": 0
      },
      "text/plain": [
       "FigureWidget({\n",
       "    'data': [{'hovertemplate': ('x=%{x}<br>y=%{y}<br>z=%{z}<br>' ... '%{marker.color}<extra></e…"
      ]
     },
     "metadata": {},
     "output_type": "display_data"
    }
   ],
   "source": [
    "audio_scatter(data,x='x',y='y',z='z', player_id=1000, label='label',color='color', action='click')"
   ]
  },
  {
   "cell_type": "code",
   "execution_count": null,
   "metadata": {},
   "outputs": [],
   "source": []
  }
 ],
 "metadata": {
  "@webio": {
   "lastCommId": null,
   "lastKernelId": null
  },
  "kernelspec": {
   "display_name": "Python 3",
   "language": "python",
   "name": "python3"
  },
  "language_info": {
   "codemirror_mode": {
    "name": "ipython",
    "version": 3
   },
   "file_extension": ".py",
   "mimetype": "text/x-python",
   "name": "python",
   "nbconvert_exporter": "python",
   "pygments_lexer": "ipython3",
   "version": "3.8.5"
  }
 },
 "nbformat": 4,
 "nbformat_minor": 2
}
